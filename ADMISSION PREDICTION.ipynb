{
 "cells": [
  {
   "cell_type": "code",
   "execution_count": 25,
   "metadata": {},
   "outputs": [],
   "source": [
    "import pandas as pd\n",
    "import numpy as np\n",
    "import matplotlib.pyplot as plt"
   ]
  },
  {
   "cell_type": "code",
   "execution_count": 26,
   "metadata": {},
   "outputs": [
    {
     "data": {
      "text/html": [
       "<div>\n",
       "<style scoped>\n",
       "    .dataframe tbody tr th:only-of-type {\n",
       "        vertical-align: middle;\n",
       "    }\n",
       "\n",
       "    .dataframe tbody tr th {\n",
       "        vertical-align: top;\n",
       "    }\n",
       "\n",
       "    .dataframe thead th {\n",
       "        text-align: right;\n",
       "    }\n",
       "</style>\n",
       "<table border=\"1\" class=\"dataframe\">\n",
       "  <thead>\n",
       "    <tr style=\"text-align: right;\">\n",
       "      <th></th>\n",
       "      <th>Serial No.</th>\n",
       "      <th>GRE Score</th>\n",
       "      <th>TOEFL Score</th>\n",
       "      <th>University Rating</th>\n",
       "      <th>SOP</th>\n",
       "      <th>LOR</th>\n",
       "      <th>CGPA</th>\n",
       "      <th>Research</th>\n",
       "      <th>Chance of Admit</th>\n",
       "    </tr>\n",
       "  </thead>\n",
       "  <tbody>\n",
       "    <tr>\n",
       "      <th>0</th>\n",
       "      <td>1</td>\n",
       "      <td>337</td>\n",
       "      <td>118</td>\n",
       "      <td>4</td>\n",
       "      <td>4.5</td>\n",
       "      <td>4.5</td>\n",
       "      <td>9.65</td>\n",
       "      <td>1</td>\n",
       "      <td>0.92</td>\n",
       "    </tr>\n",
       "    <tr>\n",
       "      <th>1</th>\n",
       "      <td>2</td>\n",
       "      <td>324</td>\n",
       "      <td>107</td>\n",
       "      <td>4</td>\n",
       "      <td>4.0</td>\n",
       "      <td>4.5</td>\n",
       "      <td>8.87</td>\n",
       "      <td>1</td>\n",
       "      <td>0.76</td>\n",
       "    </tr>\n",
       "    <tr>\n",
       "      <th>2</th>\n",
       "      <td>3</td>\n",
       "      <td>316</td>\n",
       "      <td>104</td>\n",
       "      <td>3</td>\n",
       "      <td>3.0</td>\n",
       "      <td>3.5</td>\n",
       "      <td>8.00</td>\n",
       "      <td>1</td>\n",
       "      <td>0.72</td>\n",
       "    </tr>\n",
       "    <tr>\n",
       "      <th>3</th>\n",
       "      <td>4</td>\n",
       "      <td>322</td>\n",
       "      <td>110</td>\n",
       "      <td>3</td>\n",
       "      <td>3.5</td>\n",
       "      <td>2.5</td>\n",
       "      <td>8.67</td>\n",
       "      <td>1</td>\n",
       "      <td>0.80</td>\n",
       "    </tr>\n",
       "    <tr>\n",
       "      <th>4</th>\n",
       "      <td>5</td>\n",
       "      <td>314</td>\n",
       "      <td>103</td>\n",
       "      <td>2</td>\n",
       "      <td>2.0</td>\n",
       "      <td>3.0</td>\n",
       "      <td>8.21</td>\n",
       "      <td>0</td>\n",
       "      <td>0.65</td>\n",
       "    </tr>\n",
       "  </tbody>\n",
       "</table>\n",
       "</div>"
      ],
      "text/plain": [
       "   Serial No.  GRE Score  TOEFL Score  University Rating  SOP  LOR   CGPA  \\\n",
       "0           1        337          118                  4  4.5   4.5  9.65   \n",
       "1           2        324          107                  4  4.0   4.5  8.87   \n",
       "2           3        316          104                  3  3.0   3.5  8.00   \n",
       "3           4        322          110                  3  3.5   2.5  8.67   \n",
       "4           5        314          103                  2  2.0   3.0  8.21   \n",
       "\n",
       "   Research  Chance of Admit   \n",
       "0         1              0.92  \n",
       "1         1              0.76  \n",
       "2         1              0.72  \n",
       "3         1              0.80  \n",
       "4         0              0.65  "
      ]
     },
     "execution_count": 26,
     "metadata": {},
     "output_type": "execute_result"
    }
   ],
   "source": [
    "df=pd.read_csv(r\"C:\\Users\\hp\\Desktop\\Dataset\\Admission Predict.csv\")\n",
    "df.head()"
   ]
  },
  {
   "cell_type": "code",
   "execution_count": 27,
   "metadata": {},
   "outputs": [
    {
     "name": "stdout",
     "output_type": "stream",
     "text": [
      "     GRE Score  TOEFL Score  University Rating  SOP  LOR   CGPA  Research\n",
      "0          337          118                  4  4.5   4.5  9.65         1\n",
      "1          324          107                  4  4.0   4.5  8.87         1\n",
      "2          316          104                  3  3.0   3.5  8.00         1\n",
      "3          322          110                  3  3.5   2.5  8.67         1\n",
      "4          314          103                  2  2.0   3.0  8.21         0\n",
      "..         ...          ...                ...  ...   ...   ...       ...\n",
      "395        324          110                  3  3.5   3.5  9.04         1\n",
      "396        325          107                  3  3.0   3.5  9.11         1\n",
      "397        330          116                  4  5.0   4.5  9.45         1\n",
      "398        312          103                  3  3.5   4.0  8.78         0\n",
      "399        333          117                  4  5.0   4.0  9.66         1\n",
      "\n",
      "[400 rows x 7 columns]\n",
      "0      0.92\n",
      "1      0.76\n",
      "2      0.72\n",
      "3      0.80\n",
      "4      0.65\n",
      "       ... \n",
      "395    0.82\n",
      "396    0.84\n",
      "397    0.91\n",
      "398    0.67\n",
      "399    0.95\n",
      "Name: Chance of Admit , Length: 400, dtype: float64\n"
     ]
    },
    {
     "data": {
      "text/plain": [
       "(400,)"
      ]
     },
     "execution_count": 27,
     "metadata": {},
     "output_type": "execute_result"
    }
   ],
   "source": [
    "X=df.iloc[:,1:8]\n",
    "print(X)\n",
    "Y=df.iloc[:,8]\n",
    "print(Y)\n",
    "Y.shape"
   ]
  },
  {
   "cell_type": "markdown",
   "metadata": {},
   "source": [
    "# Cleaning of data"
   ]
  },
  {
   "cell_type": "code",
   "execution_count": 28,
   "metadata": {},
   "outputs": [
    {
     "data": {
      "text/plain": [
       "(400, 9)"
      ]
     },
     "execution_count": 28,
     "metadata": {},
     "output_type": "execute_result"
    }
   ],
   "source": [
    "df.shape"
   ]
  },
  {
   "cell_type": "code",
   "execution_count": 29,
   "metadata": {},
   "outputs": [
    {
     "name": "stdout",
     "output_type": "stream",
     "text": [
      "Missing values in column:\n"
     ]
    },
    {
     "data": {
      "text/plain": [
       "Serial No.           0\n",
       "GRE Score            0\n",
       "TOEFL Score          0\n",
       "University Rating    0\n",
       "SOP                  0\n",
       "LOR                  0\n",
       "CGPA                 0\n",
       "Research             0\n",
       "Chance of Admit      0\n",
       "dtype: int64"
      ]
     },
     "execution_count": 29,
     "metadata": {},
     "output_type": "execute_result"
    }
   ],
   "source": [
    "print('Missing values in column:' )\n",
    "df.isnull().sum()"
   ]
  },
  {
   "cell_type": "markdown",
   "metadata": {},
   "source": [
    "# Normalization"
   ]
  },
  {
   "cell_type": "code",
   "execution_count": 30,
   "metadata": {},
   "outputs": [],
   "source": [
    "l1=[]\n",
    "for i in range(400):\n",
    "    m1=max(X.iloc[:,0])\n",
    "    m2=min(X.iloc[:,0])\n",
    "    f=(X.iloc[i,0]-m2)/(m1-m2)\n",
    "    l1.append(f)\n",
    "l2=[]\n",
    "for i in range(400):\n",
    "    m1=max(X.iloc[:,1])\n",
    "    m2=min(X.iloc[:,1])\n",
    "    f=(X.iloc[i,1]-m2)/(m1-m2)\n",
    "    l2.append(f)\n",
    "l3=[]\n",
    "for i in range(400):\n",
    "    m1=max(X.iloc[:,2])\n",
    "    m2=min(X.iloc[:,2])\n",
    "    f=(X.iloc[i,2]-m2)/(m1-m2)\n",
    "    l3.append(f)\n",
    "l4=[]\n",
    "for i in range(400):\n",
    "    m1=max(X.iloc[:,3])\n",
    "    m2=min(X.iloc[:,3])\n",
    "    f=(X.iloc[i,3]-m2)/(m1-m2)\n",
    "    l4.append(f)\n",
    "    \n",
    "l5=[]\n",
    "for i in range(400):\n",
    "    m1=max(X.iloc[:,4])\n",
    "    m2=min(X.iloc[:,4])\n",
    "    f=(X.iloc[i,4]-m2)/(m1-m2)\n",
    "    l5.append(f)\n",
    "    \n",
    "l6=[]\n",
    "for i in range(400):\n",
    "    m1=max(X.iloc[:,5])\n",
    "    m2=min(X.iloc[:,5])\n",
    "    f=(X.iloc[i,5]-m2)/(m1-m2)\n",
    "    l6.append(f)\n",
    "    \n",
    "l7=[]\n",
    "for i in range(400):\n",
    "    m1=max(X.iloc[:,6])\n",
    "    m2=min(X.iloc[:,6])\n",
    "    f=(X.iloc[i,6]-m2)/(m1-m2)\n",
    "    l7.append(f)\n",
    "\n",
    "l8=[]    \n",
    "for i in range(400):\n",
    "    m1=max(Y)\n",
    "    m2=min(Y)\n",
    "    f=(Y.iloc[i]-m2)/(m1-m2)\n",
    "    l8.append(f)\n",
    "x=pd.DataFrame([l1,l2,l3,l4,l5,l6,l7])\n",
    "x=x.transpose()\n",
    "\n",
    "\n"
   ]
  },
  {
   "cell_type": "code",
   "execution_count": 31,
   "metadata": {},
   "outputs": [
    {
     "name": "stdout",
     "output_type": "stream",
     "text": [
      "[0.75, 0.75, 0.5, 0.5, 0.25, 1.0, 0.5, 0.25, 0.0, 0.5, 0.5, 0.75, 0.75, 0.5, 0.5, 0.5, 0.5, 0.5, 0.5, 0.5, 0.5, 0.75, 1.0, 1.0, 1.0, 1.0, 1.0, 0.25, 0.0, 0.25, 0.25, 0.5, 0.75, 1.0, 1.0, 1.0, 0.25, 0.0, 0.0, 0.25, 0.5, 0.25, 0.25, 0.75, 1.0, 1.0, 1.0, 1.0, 0.5, 0.75, 0.5, 0.25, 0.75, 0.75, 0.5, 0.5, 0.5, 0.25, 0.0, 0.25, 0.25, 0.5, 0.25, 0.25, 0.5, 0.75, 0.5, 0.25, 0.5, 0.75, 1.0, 1.0, 1.0, 0.75, 0.5, 0.25, 0.5, 0.25, 0.25, 0.0, 0.5, 0.75, 1.0, 1.0, 1.0, 0.75, 0.5, 0.25, 0.5, 0.75, 0.25, 0.5, 0.25, 0.25, 0.5, 0.75, 0.25, 0.5, 0.75, 0.5, 0.5, 0.25, 0.25, 0.25, 0.5, 0.5, 0.75, 0.75, 1.0, 1.0, 1.0, 0.75, 0.5, 0.25, 0.5, 0.75, 0.5, 0.75, 0.25, 1.0, 1.0, 1.0, 0.75, 0.5, 0.75, 0.5, 0.5, 0.5, 0.5, 1.0, 1.0, 1.0, 1.0, 1.0, 1.0, 0.75, 0.5, 0.25, 0.25, 0.0, 0.25, 0.25, 1.0, 0.75, 0.25, 0.25, 0.5, 0.5, 0.75, 0.25, 0.75, 1.0, 1.0, 0.5, 0.5, 0.5, 0.5, 0.25, 0.25, 0.0, 0.0, 0.0, 0.5, 0.5, 0.75, 1.0, 0.5, 0.5, 0.25, 0.25, 0.25, 1.0, 0.75, 0.75, 0.75, 0.75, 0.75, 0.5, 0.5, 0.5, 0.5, 0.25, 0.25, 0.5, 0.25, 0.75, 0.5, 1.0, 1.0, 1.0, 1.0, 1.0, 1.0, 1.0, 0.5, 0.25, 0.25, 0.25, 0.5, 0.5, 0.5, 0.25, 1.0, 1.0, 0.5, 0.25, 0.25, 0.5, 0.25, 0.5, 0.75, 0.75, 0.75, 1.0, 0.75, 1.0, 0.75, 0.75, 0.75, 0.5, 0.5, 0.5, 0.75, 0.25, 0.25, 0.25, 0.25, 0.25, 0.5, 0.75, 0.5, 0.5, 0.25, 0.25, 1.0, 1.0, 0.75, 1.0, 0.5, 0.0, 0.0, 0.25, 0.5, 0.5, 0.25, 0.75, 0.5, 0.25, 0.5, 0.5, 0.5, 0.25, 0.25, 0.75, 0.75, 0.75, 0.5, 0.5, 0.75, 0.75, 1.0, 0.5, 0.25, 0.5, 0.25, 0.5, 0.25, 0.5, 0.75, 0.75, 0.25, 0.25, 0.0, 0.0, 0.0, 0.5, 1.0, 0.25, 0.25, 0.25, 0.5, 0.5, 0.5, 0.5, 0.75, 1.0, 1.0, 1.0, 0.75, 0.5, 0.25, 0.25, 0.25, 0.0, 0.25, 0.25, 0.5, 0.5, 0.5, 0.5, 0.25, 0.25, 0.25, 0.5, 0.25, 0.5, 0.5, 0.75, 0.5, 0.75, 0.5, 0.75, 0.75, 0.5, 0.25, 0.25, 0.25, 0.0, 0.5, 0.75, 0.5, 0.5, 0.25, 0.25, 0.5, 0.5, 0.5, 0.25, 0.75, 0.25, 0.5, 0.25, 0.5, 0.5, 0.75, 0.75, 0.5, 1.0, 1.0, 1.0, 0.5, 0.5, 0.5, 0.25, 0.25, 0.0, 0.25, 0.0, 0.0, 0.5, 0.5, 0.75, 0.25, 0.5, 0.25, 0.25, 0.5, 0.25, 0.25, 0.25, 0.5, 0.75, 1.0, 0.25, 0.5, 0.75, 0.5, 0.0, 0.0, 0.0, 0.25, 0.5, 0.75, 0.5, 0.25, 0.25, 0.25, 0.0, 0.0, 0.0, 0.5, 0.5, 0.75, 0.5, 0.75, 1.0, 0.25, 0.25, 0.25, 0.5, 0.25, 0.5, 0.75, 0.25, 0.75, 0.5, 0.5, 0.75, 0.5, 0.75]\n"
     ]
    }
   ],
   "source": [
    "print(l3)"
   ]
  },
  {
   "cell_type": "markdown",
   "metadata": {},
   "source": [
    "# MSE OF TRAIN & TRAIN ERROR\n"
   ]
  },
  {
   "cell_type": "code",
   "execution_count": 32,
   "metadata": {},
   "outputs": [],
   "source": [
    "from sklearn.model_selection import train_test_split\n",
    "from sklearn.linear_model import LinearRegression\n",
    "from sklearn.metrics import mean_squared_error\n",
    "from sklearn.metrics import r2_score"
   ]
  },
  {
   "cell_type": "code",
   "execution_count": 33,
   "metadata": {},
   "outputs": [],
   "source": [
    "X_train,X_test,Y_train,Y_test=train_test_split(x,Y,test_size=0.2,random_state=155)"
   ]
  },
  {
   "cell_type": "code",
   "execution_count": 34,
   "metadata": {},
   "outputs": [],
   "source": [
    "model=LinearRegression()"
   ]
  },
  {
   "cell_type": "code",
   "execution_count": 35,
   "metadata": {},
   "outputs": [
    {
     "data": {
      "text/plain": [
       "LinearRegression(copy_X=True, fit_intercept=True, n_jobs=None, normalize=False)"
      ]
     },
     "execution_count": 35,
     "metadata": {},
     "output_type": "execute_result"
    }
   ],
   "source": [
    "model.fit(X_train,Y_train)"
   ]
  },
  {
   "cell_type": "markdown",
   "metadata": {},
   "source": [
    "# ACCURACY"
   ]
  },
  {
   "cell_type": "code",
   "execution_count": 36,
   "metadata": {},
   "outputs": [
    {
     "data": {
      "text/plain": [
       "0.8416575117246198"
      ]
     },
     "execution_count": 36,
     "metadata": {},
     "output_type": "execute_result"
    }
   ],
   "source": [
    "model.score(X_test,Y_test)"
   ]
  },
  {
   "cell_type": "code",
   "execution_count": 37,
   "metadata": {},
   "outputs": [],
   "source": [
    "Y_pred=model.predict(X_test)\n",
    "Y_pred_train=model.predict(X_train)"
   ]
  },
  {
   "cell_type": "code",
   "execution_count": 38,
   "metadata": {},
   "outputs": [
    {
     "data": {
      "text/plain": [
       "0.003158930166992458"
      ]
     },
     "execution_count": 38,
     "metadata": {},
     "output_type": "execute_result"
    }
   ],
   "source": [
    "mean_squared_error(Y_test,Y_pred)"
   ]
  },
  {
   "cell_type": "code",
   "execution_count": 39,
   "metadata": {},
   "outputs": [
    {
     "data": {
      "text/plain": [
       "0.004215503825188857"
      ]
     },
     "execution_count": 39,
     "metadata": {},
     "output_type": "execute_result"
    }
   ],
   "source": [
    "mean_squared_error(Y_train,Y_pred_train)"
   ]
  },
  {
   "cell_type": "markdown",
   "metadata": {},
   "source": [
    "# Error by 2nd method"
   ]
  },
  {
   "cell_type": "code",
   "execution_count": 40,
   "metadata": {},
   "outputs": [
    {
     "name": "stdout",
     "output_type": "stream",
     "text": [
      "The mean absolute error is = 0.0031589301669924575\n"
     ]
    }
   ],
   "source": [
    "mse=np.mean((Y_test-Y_pred)**2)\n",
    "print(\"The mean absolute error is =\",mse)"
   ]
  },
  {
   "cell_type": "code",
   "execution_count": 41,
   "metadata": {},
   "outputs": [
    {
     "name": "stdout",
     "output_type": "stream",
     "text": [
      "The mean absolute error is = 0.004215503825188854\n"
     ]
    }
   ],
   "source": [
    "mse=np.mean((Y_train-Y_pred_train)**2)\n",
    "print(\"The mean absolute error is =\",mse)"
   ]
  },
  {
   "cell_type": "markdown",
   "metadata": {},
   "source": [
    "# PREDICTION"
   ]
  },
  {
   "cell_type": "code",
   "execution_count": 42,
   "metadata": {},
   "outputs": [
    {
     "data": {
      "text/plain": [
       "array([0.78853784, 0.64930792, 0.66989602, 0.93834079, 0.84541259,\n",
       "       0.56172311, 0.77112206, 0.57270708, 0.89658193, 0.64904266,\n",
       "       0.85790381, 0.81145064, 0.59730894, 0.61738494, 0.83293211,\n",
       "       0.90321761, 0.64858232, 0.74709536, 0.64720517, 0.75807356,\n",
       "       0.54412374, 0.68093055, 0.68705397, 0.70483279, 0.99360302,\n",
       "       0.6679226 , 0.82674788, 0.77536896, 0.6997951 , 0.49960117,\n",
       "       0.66749723, 0.64248894, 0.88520854, 0.95842157, 0.81217727,\n",
       "       0.70098371, 0.57789528, 0.52750527, 0.94940645, 0.60044453,\n",
       "       0.80916254, 0.90112217, 0.51099758, 0.78967551, 0.8107302 ,\n",
       "       0.43279219, 0.6455453 , 0.6963769 , 0.9478107 , 0.52038615,\n",
       "       0.67450046, 0.43133124, 0.64901893, 0.89941433, 0.67283204,\n",
       "       0.8580986 , 0.73505027, 0.87215618, 0.79983614, 0.67951875,\n",
       "       0.46799897, 0.72659383, 0.78479639, 0.85471222, 0.68595265,\n",
       "       0.71286662, 0.82400831, 0.68132286, 0.92539089, 0.88330158,\n",
       "       0.69859923, 0.64330052, 0.60465737, 0.67602918, 0.73378031,\n",
       "       0.53586022, 0.8398415 , 0.93285034, 0.60709887, 0.55333723])"
      ]
     },
     "execution_count": 42,
     "metadata": {},
     "output_type": "execute_result"
    }
   ],
   "source": [
    "model.predict(X_test)"
   ]
  },
  {
   "cell_type": "code",
   "execution_count": 43,
   "metadata": {},
   "outputs": [
    {
     "name": "stdout",
     "output_type": "stream",
     "text": [
      "        0     1      2      3         4\n",
      "0    0.94  0.75  0.875  0.875  0.913462\n",
      "1    0.68  0.75  0.750  0.875  0.663462\n",
      "2    0.52  0.50  0.500  0.625  0.384615\n",
      "3    0.64  0.50  0.625  0.375  0.599359\n",
      "4    0.48  0.25  0.250  0.500  0.451923\n",
      "..    ...   ...    ...    ...       ...\n",
      "395  0.68  0.50  0.625  0.625  0.717949\n",
      "396  0.70  0.50  0.500  0.625  0.740385\n",
      "397  0.80  0.75  1.000  0.875  0.849359\n",
      "398  0.44  0.50  0.625  0.750  0.634615\n",
      "399  0.86  0.75  1.000  0.750  0.916667\n",
      "\n",
      "[400 rows x 5 columns]\n"
     ]
    }
   ],
   "source": [
    "x=pd.DataFrame([l1,l3,l4,l5,l6])\n",
    "x=x.transpose()\n",
    "print(x)"
   ]
  },
  {
   "cell_type": "code",
   "execution_count": 44,
   "metadata": {},
   "outputs": [
    {
     "data": {
      "text/plain": [
       "(400, 5)"
      ]
     },
     "execution_count": 44,
     "metadata": {},
     "output_type": "execute_result"
    }
   ],
   "source": [
    "x.shape"
   ]
  },
  {
   "cell_type": "code",
   "execution_count": null,
   "metadata": {},
   "outputs": [],
   "source": []
  },
  {
   "cell_type": "code",
   "execution_count": 45,
   "metadata": {},
   "outputs": [
    {
     "data": {
      "text/plain": [
       "(400,)"
      ]
     },
     "execution_count": 45,
     "metadata": {},
     "output_type": "execute_result"
    }
   ],
   "source": [
    "Y.shape"
   ]
  },
  {
   "cell_type": "code",
   "execution_count": 46,
   "metadata": {},
   "outputs": [
    {
     "data": {
      "text/plain": [
       "0    0\n",
       "1    0\n",
       "2    0\n",
       "3    0\n",
       "4    0\n",
       "dtype: int64"
      ]
     },
     "execution_count": 46,
     "metadata": {},
     "output_type": "execute_result"
    }
   ],
   "source": [
    "x.isnull().sum()"
   ]
  },
  {
   "cell_type": "code",
   "execution_count": 47,
   "metadata": {},
   "outputs": [
    {
     "data": {
      "text/html": [
       "<div>\n",
       "<style scoped>\n",
       "    .dataframe tbody tr th:only-of-type {\n",
       "        vertical-align: middle;\n",
       "    }\n",
       "\n",
       "    .dataframe tbody tr th {\n",
       "        vertical-align: top;\n",
       "    }\n",
       "\n",
       "    .dataframe thead th {\n",
       "        text-align: right;\n",
       "    }\n",
       "</style>\n",
       "<table border=\"1\" class=\"dataframe\">\n",
       "  <thead>\n",
       "    <tr style=\"text-align: right;\">\n",
       "      <th></th>\n",
       "      <th>0</th>\n",
       "      <th>1</th>\n",
       "      <th>2</th>\n",
       "      <th>3</th>\n",
       "      <th>4</th>\n",
       "    </tr>\n",
       "  </thead>\n",
       "  <tbody>\n",
       "    <tr>\n",
       "      <th>0</th>\n",
       "      <td>0.94</td>\n",
       "      <td>0.75</td>\n",
       "      <td>0.875</td>\n",
       "      <td>0.875</td>\n",
       "      <td>0.913462</td>\n",
       "    </tr>\n",
       "    <tr>\n",
       "      <th>1</th>\n",
       "      <td>0.68</td>\n",
       "      <td>0.75</td>\n",
       "      <td>0.750</td>\n",
       "      <td>0.875</td>\n",
       "      <td>0.663462</td>\n",
       "    </tr>\n",
       "    <tr>\n",
       "      <th>2</th>\n",
       "      <td>0.52</td>\n",
       "      <td>0.50</td>\n",
       "      <td>0.500</td>\n",
       "      <td>0.625</td>\n",
       "      <td>0.384615</td>\n",
       "    </tr>\n",
       "    <tr>\n",
       "      <th>3</th>\n",
       "      <td>0.64</td>\n",
       "      <td>0.50</td>\n",
       "      <td>0.625</td>\n",
       "      <td>0.375</td>\n",
       "      <td>0.599359</td>\n",
       "    </tr>\n",
       "    <tr>\n",
       "      <th>4</th>\n",
       "      <td>0.48</td>\n",
       "      <td>0.25</td>\n",
       "      <td>0.250</td>\n",
       "      <td>0.500</td>\n",
       "      <td>0.451923</td>\n",
       "    </tr>\n",
       "  </tbody>\n",
       "</table>\n",
       "</div>"
      ],
      "text/plain": [
       "      0     1      2      3         4\n",
       "0  0.94  0.75  0.875  0.875  0.913462\n",
       "1  0.68  0.75  0.750  0.875  0.663462\n",
       "2  0.52  0.50  0.500  0.625  0.384615\n",
       "3  0.64  0.50  0.625  0.375  0.599359\n",
       "4  0.48  0.25  0.250  0.500  0.451923"
      ]
     },
     "execution_count": 47,
     "metadata": {},
     "output_type": "execute_result"
    }
   ],
   "source": [
    "x.head()"
   ]
  },
  {
   "cell_type": "code",
   "execution_count": null,
   "metadata": {},
   "outputs": [],
   "source": []
  },
  {
   "cell_type": "code",
   "execution_count": null,
   "metadata": {},
   "outputs": [],
   "source": []
  },
  {
   "cell_type": "code",
   "execution_count": null,
   "metadata": {},
   "outputs": [],
   "source": []
  },
  {
   "cell_type": "code",
   "execution_count": null,
   "metadata": {},
   "outputs": [],
   "source": []
  }
 ],
 "metadata": {
  "kernelspec": {
   "display_name": "Python 3",
   "language": "python",
   "name": "python3"
  },
  "language_info": {
   "codemirror_mode": {
    "name": "ipython",
    "version": 3
   },
   "file_extension": ".py",
   "mimetype": "text/x-python",
   "name": "python",
   "nbconvert_exporter": "python",
   "pygments_lexer": "ipython3",
   "version": "3.7.6"
  }
 },
 "nbformat": 4,
 "nbformat_minor": 4
}
